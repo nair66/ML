{
 "cells": [
  {
   "cell_type": "code",
   "execution_count": 74,
   "metadata": {},
   "outputs": [],
   "source": [
    "#Caesar's Cipher\n",
    "#ACII Value 32 - 126\n",
    "def encrypt(plainText, JUMP_VALUE):\n",
    "    plainText = list(plainText)\n",
    "    for i in range(len(plainText)):\n",
    "        #get the ASCII value \n",
    "        replaceValue = ord(plainText[i])\n",
    "        replaceValue -= 32\n",
    "        # add jumpvalue \n",
    "        replaceValue = (replaceValue + JUMP_VALUE ) % 95\n",
    "        \n",
    "        #replace the value\n",
    "        plainText[i] = chr(replaceValue + 32)\n",
    "    return ''.join(plainText)"
   ]
  },
  {
   "cell_type": "code",
   "execution_count": 82,
   "metadata": {},
   "outputs": [
    {
     "data": {
      "text/plain": [
       "\"j~ *6 *6*,''&*{z6+&6x{6w6~ }~#06{%y)0'+{z6${**w}{D6fw**.&)zP7V9:;t<@>?uA\""
      ]
     },
     "execution_count": 82,
     "metadata": {},
     "output_type": "execute_result"
    }
   ],
   "source": [
    "encrypt(\"This is supposed to be a highly encrypted message. Password:!@#$%^&*()_+\",22)"
   ]
  },
  {
   "cell_type": "code",
   "execution_count": 75,
   "metadata": {},
   "outputs": [],
   "source": [
    "def decrypt(cipherText, JUMP_VALUE):\n",
    "    cipherText = list(cipherText)\n",
    "    for i in range(len(cipherText)):\n",
    "        #get the ASCII value \n",
    "        replaceValue = ord(cipherText[i])\n",
    "        replaceValue -= 32\n",
    "        # add jumpvalue \n",
    "        replaceValue = (replaceValue - JUMP_VALUE ) % 95\n",
    "        \n",
    "        #replace the value\n",
    "        cipherText[i] = chr(replaceValue + 32)\n",
    "    return ''.join(cipherText)"
   ]
  },
  {
   "cell_type": "code",
   "execution_count": 83,
   "metadata": {},
   "outputs": [
    {
     "data": {
      "text/plain": [
       "'This is supposed to be a highly encrypted message. Password:!@#$%^&*()_+'"
      ]
     },
     "execution_count": 83,
     "metadata": {},
     "output_type": "execute_result"
    }
   ],
   "source": [
    "decrypt(\"j~ *6 *6*,''&*{z6+&6x{6w6~ }~#06{%y)0'+{z6${**w}{D6fw**.&)zP7V9:;t<@>?uA\",22)"
   ]
  }
 ],
 "metadata": {
  "kernelspec": {
   "display_name": "Python 3",
   "language": "python",
   "name": "python3"
  },
  "language_info": {
   "codemirror_mode": {
    "name": "ipython",
    "version": 3
   },
   "file_extension": ".py",
   "mimetype": "text/x-python",
   "name": "python",
   "nbconvert_exporter": "python",
   "pygments_lexer": "ipython3",
   "version": "3.7.6"
  }
 },
 "nbformat": 4,
 "nbformat_minor": 4
}
