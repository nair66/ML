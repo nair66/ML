{
 "cells": [
  {
   "cell_type": "markdown",
   "metadata": {},
   "source": [
    "Law Of Large Numbers"
   ]
  },
  {
   "cell_type": "code",
   "execution_count": 1,
   "metadata": {},
   "outputs": [],
   "source": [
    "import numpy as np\n",
    "from numpy.random import randn"
   ]
  },
  {
   "cell_type": "code",
   "execution_count": 8,
   "metadata": {},
   "outputs": [
    {
     "name": "stdout",
     "output_type": "stream",
     "text": [
      "Obtained Value :  0.682\n",
      "Expected value :  0.68\n"
     ]
    }
   ],
   "source": [
    "expected_value = 0.68\n",
    "n = 1000\n",
    "count = 0\n",
    "for i in randn(n):\n",
    "    if i > -1 and i < 1:\n",
    "        count+=1\n",
    "count = count / n\n",
    "print(\"Obtained Value : \",count)\n",
    "print(\"Expected value : \",expected_value)"
   ]
  },
  {
   "cell_type": "code",
   "execution_count": 9,
   "metadata": {},
   "outputs": [
    {
     "name": "stdout",
     "output_type": "stream",
     "text": [
      "[0, 1, 2, 3, 4, 5, 6, 7, 8, 9, 10, 11, 12, 13, 14, 15, 16, 17, 18, 19]\n"
     ]
    },
    {
     "data": {
      "text/plain": [
       "array(['12', '99', 'True'], dtype='<U11')"
      ]
     },
     "execution_count": 9,
     "metadata": {},
     "output_type": "execute_result"
    }
   ],
   "source": [
    "ll = list(range(20))\n",
    "print(ll)\n",
    "a = np.array([12,99,\"True\"])\n",
    "a\n"
   ]
  },
  {
   "cell_type": "code",
   "execution_count": 11,
   "metadata": {},
   "outputs": [
    {
     "name": "stdout",
     "output_type": "stream",
     "text": [
      "['99' '20']\n",
      "['0' '0' '0']\n",
      "['12' '99' '20']\n"
     ]
    }
   ],
   "source": [
    "b = a[1:3]\n",
    "b[1] = 20\n",
    "c = a.copy()\n",
    "c[:] = 0\n",
    "print(b)\n",
    "print(c)\n",
    "print(a)"
   ]
  }
 ],
 "metadata": {
  "kernelspec": {
   "display_name": "Python 3",
   "language": "python",
   "name": "python3"
  },
  "language_info": {
   "codemirror_mode": {
    "name": "ipython",
    "version": 3
   },
   "file_extension": ".py",
   "mimetype": "text/x-python",
   "name": "python",
   "nbconvert_exporter": "python",
   "pygments_lexer": "ipython3",
   "version": "3.8.8"
  }
 },
 "nbformat": 4,
 "nbformat_minor": 4
}
