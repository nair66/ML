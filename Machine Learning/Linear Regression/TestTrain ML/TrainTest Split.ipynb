{
 "cells": [
  {
   "cell_type": "code",
   "execution_count": 1,
   "metadata": {},
   "outputs": [],
   "source": [
    "import numpy as np\n",
    "from sklearn.model_selection import train_test_split"
   ]
  },
  {
   "cell_type": "code",
   "execution_count": 43,
   "metadata": {},
   "outputs": [
    {
     "data": {
      "text/plain": [
       "(99,)"
      ]
     },
     "execution_count": 43,
     "metadata": {},
     "output_type": "execute_result"
    }
   ],
   "source": [
    "#Generate some data we are going to split\n",
    "a = np.arange(1,101)\n",
    "a"
   ]
  },
  {
   "cell_type": "code",
   "execution_count": 46,
   "metadata": {},
   "outputs": [
    {
     "data": {
      "text/plain": [
       "array([501, 502, 503, 504, 505, 506, 507, 508, 509, 510, 511, 512, 513,\n",
       "       514, 515, 516, 517, 518, 519, 520, 521, 522, 523, 524, 525, 526,\n",
       "       527, 528, 529, 530, 531, 532, 533, 534, 535, 536, 537, 538, 539,\n",
       "       540, 541, 542, 543, 544, 545, 546, 547, 548, 549, 550, 551, 552,\n",
       "       553, 554, 555, 556, 557, 558, 559, 560, 561, 562, 563, 564, 565,\n",
       "       566, 567, 568, 569, 570, 571, 572, 573, 574, 575, 576, 577, 578,\n",
       "       579, 580, 581, 582, 583, 584, 585, 586, 587, 588, 589, 590, 591,\n",
       "       592, 593, 594, 595, 596, 597, 598, 599, 600])"
      ]
     },
     "execution_count": 46,
     "metadata": {},
     "output_type": "execute_result"
    }
   ],
   "source": [
    "b = np.arange(501,601)\n",
    "b"
   ]
  },
  {
   "cell_type": "code",
   "execution_count": 6,
   "metadata": {},
   "outputs": [
    {
     "data": {
      "text/plain": [
       "[array([ 36,  90,  30,  87,  53,   9,  63,  73,   3,  92,  99,  71,  21,\n",
       "         32,  11,  91,  54,  79,  69,  39,  55,  64,  20,  44,  25,   1,\n",
       "         81,  65,  52,  72,  14,  86,  85,  66,   4,  33,  27,  28,  62,\n",
       "         45,  70,  22,  98,  37, 100,  16,  96,  38,  50,  93,  88,  26,\n",
       "         43,  35,  76,   2,  40,  18,  61,  31,  51,  75,  58,  46,  10,\n",
       "         56,  19,  94,  60,  68,  84,  95,  97,  77,  49]),\n",
       " array([29, 57, 42, 59, 67, 34, 47, 17, 23, 89, 24,  6,  5, 48, 83, 13, 78,\n",
       "        80, 41, 12, 15, 82, 74,  8,  7])]"
      ]
     },
     "execution_count": 6,
     "metadata": {},
     "output_type": "execute_result"
    }
   ],
   "source": [
    "#Split the data\n",
    "train_test_split(a)  #splits arrays or matrices into random train and test subsets"
   ]
  },
  {
   "cell_type": "code",
   "execution_count": 29,
   "metadata": {},
   "outputs": [],
   "source": [
    "#Store the data in seperate variables,First array is always the training array\n",
    "#Default split is 75,25 \n",
    "#For time series for example, the order is utmost importance, shuffle is default set to true, mostly we prefer to shuffle our data to remove time dependencies and day-of-the-week-effects and so on,usually these are not crucial to causal relationships we are looking for, and can only deteriorate your models\n",
    "#a_train, a_test = train_test_split(a,test_size=0.2,shuffle=False)\n",
    "#Your Rsq will likey cahnge by 1% or 2% just because of the shuffle split, if you are trying to impore your model with many tiny tweaks, each of which are bringing 1% or 2% of additional explanatory power, a different shuffle every time would prevent an objective assessement of the changes, In the best case scenario, we would like shuffled data but shuffled in the same way every time, the randomState arguement helps us with this\n",
    "#random_state=42 is conventionaly used number by the community\n",
    "#With this we avoid getting different shuffles each time we run the below statement\n",
    "#To get a different shuffle split modify the number given to the random_state\n",
    "a_train, a_test = train_test_split(a,test_size=0.2,random_state=42)"
   ]
  },
  {
   "cell_type": "code",
   "execution_count": 30,
   "metadata": {},
   "outputs": [
    {
     "data": {
      "text/plain": [
       "((80,), (20,))"
      ]
     },
     "execution_count": 30,
     "metadata": {},
     "output_type": "execute_result"
    }
   ],
   "source": [
    "#Explore the result\n",
    "a_train.shape , a_test.shape"
   ]
  },
  {
   "cell_type": "code",
   "execution_count": 38,
   "metadata": {},
   "outputs": [
    {
     "data": {
      "text/plain": [
       "array([ 56,  89,  27,  43,  70,  16,  41,  97,  10,  73,  12,  48,  86,\n",
       "        29,  94,   6,  67,  66,  36,  17,  50,  35,   8,  96,  28,  20,\n",
       "        82,  26,  63,  14,  25,   4,  18,  39,   9,  79,   7,  65,  37,\n",
       "        90,  57, 100,  55,  44,  51,  68,  47,  69,  62,  98,  80,  42,\n",
       "        59,  49,  99,  58,  76,  33,  95,  60,  64,  85,  38,  30,   2,\n",
       "        53,  22,   3,  24,  88,  92,  75,  87,  83,  21,  61,  72,  15,\n",
       "        93,  52])"
      ]
     },
     "execution_count": 38,
     "metadata": {},
     "output_type": "execute_result"
    }
   ],
   "source": [
    "a_train"
   ]
  },
  {
   "cell_type": "code",
   "execution_count": 40,
   "metadata": {},
   "outputs": [
    {
     "data": {
      "text/plain": [
       "array([84, 54, 71, 46, 45, 40, 23, 81, 11,  1, 19, 31, 74, 34, 91,  5, 77,\n",
       "       78, 13, 32])"
      ]
     },
     "execution_count": 40,
     "metadata": {},
     "output_type": "execute_result"
    }
   ],
   "source": [
    "a_test"
   ]
  },
  {
   "cell_type": "code",
   "execution_count": 51,
   "metadata": {},
   "outputs": [],
   "source": [
    "#We can also split more than 1 arrays at the same time.\n",
    "#Notice how both arrays are shuffled the same way, this is important for regressions because we want certain observation inputs to match its targets even after shuffling. \n",
    "a_train, a_test , b_train, b_test = train_test_split(a,b,test_size=0.2,random_state=30)"
   ]
  },
  {
   "cell_type": "code",
   "execution_count": 52,
   "metadata": {},
   "outputs": [
    {
     "data": {
      "text/plain": [
       "array([594, 505, 552, 573, 502, 588, 579, 525, 572, 555, 596, 533, 564,\n",
       "       570, 530, 531, 520, 561, 560, 544, 527, 506, 526, 584, 523, 537,\n",
       "       567, 548, 587, 510, 540, 557, 599, 545, 574, 532, 571, 541, 558,\n",
       "       515, 576, 559, 586, 529, 556, 534, 551, 514, 595, 516, 512, 580,\n",
       "       565, 585, 591, 528, 563, 507, 517, 577, 582, 519, 536, 562, 597,\n",
       "       550, 566, 508, 542, 504, 547, 518, 554, 503, 524, 513, 598, 546,\n",
       "       600, 538])"
      ]
     },
     "execution_count": 52,
     "metadata": {},
     "output_type": "execute_result"
    }
   ],
   "source": [
    "b_train"
   ]
  },
  {
   "cell_type": "code",
   "execution_count": 54,
   "metadata": {},
   "outputs": [
    {
     "data": {
      "text/plain": [
       "array([ 94,   5,  52,  73,   2,  88,  79,  25,  72,  55,  96,  33,  64,\n",
       "        70,  30,  31,  20,  61,  60,  44,  27,   6,  26,  84,  23,  37,\n",
       "        67,  48,  87,  10,  40,  57,  99,  45,  74,  32,  71,  41,  58,\n",
       "        15,  76,  59,  86,  29,  56,  34,  51,  14,  95,  16,  12,  80,\n",
       "        65,  85,  91,  28,  63,   7,  17,  77,  82,  19,  36,  62,  97,\n",
       "        50,  66,   8,  42,   4,  47,  18,  54,   3,  24,  13,  98,  46,\n",
       "       100,  38])"
      ]
     },
     "execution_count": 54,
     "metadata": {},
     "output_type": "execute_result"
    }
   ],
   "source": [
    "a_train"
   ]
  }
 ],
 "metadata": {
  "kernelspec": {
   "display_name": "Python 3",
   "language": "python",
   "name": "python3"
  },
  "language_info": {
   "codemirror_mode": {
    "name": "ipython",
    "version": 3
   },
   "file_extension": ".py",
   "mimetype": "text/x-python",
   "name": "python",
   "nbconvert_exporter": "python",
   "pygments_lexer": "ipython3",
   "version": "3.7.6"
  }
 },
 "nbformat": 4,
 "nbformat_minor": 4
}
