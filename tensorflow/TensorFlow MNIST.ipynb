{
 "cells": [
  {
   "cell_type": "code",
   "execution_count": 214,
   "id": "c7fa00e4",
   "metadata": {},
   "outputs": [],
   "source": [
    "import tensorflow as tf\n",
    "import numpy as np\n",
    "\n",
    "import tensorflow_datasets as tfds"
   ]
  },
  {
   "cell_type": "markdown",
   "id": "42c3e5c8",
   "metadata": {},
   "source": [
    "## Data\n"
   ]
  },
  {
   "cell_type": "code",
   "execution_count": 215,
   "id": "c0737bf0",
   "metadata": {},
   "outputs": [],
   "source": [
    "mnist_dataset,mnist_info = tfds.load(name='mnist',with_info=True,as_supervised=True)"
   ]
  },
  {
   "cell_type": "code",
   "execution_count": 216,
   "id": "e1e67ee0",
   "metadata": {},
   "outputs": [],
   "source": [
    "mnist_train, mnist_test = mnist_dataset['train'],mnist_dataset['test']\n",
    "\n",
    "num_validation_samples = .1 * mnist_info.splits['train'].num_examples\n",
    "\n",
    "num_validation_samples = tf.cast(num_validation_samples,tf.int64)\n",
    "num_test_samples = tf.cast(mnist_info.splits['test'].num_examples,tf.int64)\n"
   ]
  },
  {
   "cell_type": "code",
   "execution_count": 217,
   "id": "e890d1fc",
   "metadata": {},
   "outputs": [],
   "source": [
    "def scale(image,label):\n",
    "    image=tf.cast(image,tf.float32)\n",
    "    image /= 255.\n",
    "    return image,label\n",
    "\n"
   ]
  },
  {
   "cell_type": "code",
   "execution_count": 218,
   "id": "18fc6bfa",
   "metadata": {},
   "outputs": [],
   "source": [
    "scaled_train_and_validation_data = mnist_train.map(scale)\n",
    "scaled_test_data = mnist_train.map(scale)\n",
    "\n",
    "BUFFER_SIZE = 10000\n",
    "\n",
    "\n",
    "shuffled_train_and_validation = scaled_train_and_validation_data.shuffle(BUFFER_SIZE)\n",
    "\n",
    "\n",
    "validation_data = shuffled_train_and_validation.take(num_validation_samples)\n",
    "train_data = shuffled_train_and_validation.skip(num_validation_samples)"
   ]
  },
  {
   "cell_type": "code",
   "execution_count": 219,
   "id": "ed5129c2",
   "metadata": {},
   "outputs": [],
   "source": [
    "BATCH_SIZE = 100\n",
    "#We don't need to batch the validation data since we are only forward propagating, the batching gives average loss or accuracy and while validating we need the accurate result.\n",
    "#But the model however expects validation data to also be batched.\n",
    "\n",
    "train_data = train_data.batch(BATCH_SIZE)\n",
    "\n",
    "#This simply instructs to take the whole validation samples as a single batch.\n",
    "validation_data = validation_data.batch(num_validation_samples)\n",
    "\n",
    "test_data = scaled_test_data.batch(num_test_samples)\n",
    "\n",
    "validation_inputs,validation_targets = next(iter(validation_data))"
   ]
  },
  {
   "cell_type": "markdown",
   "id": "dac912ad",
   "metadata": {},
   "source": [
    "## Model\n"
   ]
  },
  {
   "cell_type": "markdown",
   "id": "fa867be3",
   "metadata": {},
   "source": [
    "### Outline the model\n"
   ]
  },
  {
   "cell_type": "code",
   "execution_count": 220,
   "id": "5da16345",
   "metadata": {},
   "outputs": [],
   "source": [
    "input_size = 784\n",
    "output_size = 10\n",
    "hidden_layer_size = 200\n",
    "\n",
    "model = tf.keras.Sequential([\n",
    "                                tf.keras.layers.Flatten(input_shape=(28,28,1)),\n",
    "                                tf.keras.layers.Dense(hidden_layer_size,activation='relu'),\n",
    "                                tf.keras.layers.Dense(hidden_layer_size,activation='relu'),\n",
    "                                tf.keras.layers.Dense(output_size,activation='softmax')\n",
    "])\n"
   ]
  },
  {
   "cell_type": "markdown",
   "id": "20dee12b",
   "metadata": {},
   "source": [
    "## Choose the optimizer and the loss function"
   ]
  },
  {
   "cell_type": "code",
   "execution_count": 221,
   "id": "6fc997ff",
   "metadata": {},
   "outputs": [],
   "source": [
    "# custom_optimizer = tf.keras.optimizers.SGD(learning_rate=0.02)\n",
    "model.compile(optimizer='adam',loss='sparse_categorical_crossentropy',metrics=['accuracy'])"
   ]
  },
  {
   "cell_type": "markdown",
   "id": "dbe496a0",
   "metadata": {},
   "source": [
    "## Training"
   ]
  },
  {
   "cell_type": "code",
   "execution_count": 222,
   "id": "68c5e096",
   "metadata": {},
   "outputs": [
    {
     "name": "stdout",
     "output_type": "stream",
     "text": [
      "Epoch 1/5\n",
      "540/540 - 8s - loss: 0.2747 - accuracy: 0.9195 - val_loss: 0.1443 - val_accuracy: 0.9560\n",
      "Epoch 2/5\n",
      "540/540 - 5s - loss: 0.1085 - accuracy: 0.9674 - val_loss: 0.0875 - val_accuracy: 0.9713\n",
      "Epoch 3/5\n",
      "540/540 - 6s - loss: 0.0711 - accuracy: 0.9777 - val_loss: 0.0616 - val_accuracy: 0.9795\n",
      "Epoch 4/5\n",
      "540/540 - 5s - loss: 0.0530 - accuracy: 0.9832 - val_loss: 0.0590 - val_accuracy: 0.9827\n",
      "Epoch 5/5\n",
      "540/540 - 7s - loss: 0.0420 - accuracy: 0.9870 - val_loss: 0.0466 - val_accuracy: 0.9848\n"
     ]
    },
    {
     "data": {
      "text/plain": [
       "<tensorflow.python.keras.callbacks.History at 0x2b66ebf72e0>"
      ]
     },
     "execution_count": 222,
     "metadata": {},
     "output_type": "execute_result"
    }
   ],
   "source": [
    "NUM_EPOCHS = 5\n",
    "\n",
    "model.fit(train_data,epochs=NUM_EPOCHS,validation_data=(validation_inputs,validation_targets),verbose=2)"
   ]
  },
  {
   "cell_type": "markdown",
   "id": "8d5aa100",
   "metadata": {},
   "source": [
    "## Test the model"
   ]
  },
  {
   "cell_type": "code",
   "execution_count": 223,
   "id": "f360f22a",
   "metadata": {},
   "outputs": [
    {
     "name": "stdout",
     "output_type": "stream",
     "text": [
      "6/6 [==============================] - 5s 863ms/step - loss: 0.0321 - accuracy: 0.9901\n"
     ]
    }
   ],
   "source": [
    "test_loss, test_acccuracy = model.evaluate(test_data)"
   ]
  },
  {
   "cell_type": "code",
   "execution_count": 225,
   "id": "0a8f1cd7",
   "metadata": {},
   "outputs": [
    {
     "name": "stdout",
     "output_type": "stream",
     "text": [
      "Test loss: 0.03. Test accuracy:  99.01%\n"
     ]
    }
   ],
   "source": [
    "print('Test loss: {0:.2f}. Test accuracy: {1: .2f}%'.format(test_loss,test_acccuracy*100.))"
   ]
  },
  {
   "cell_type": "code",
   "execution_count": null,
   "id": "81959b3d",
   "metadata": {},
   "outputs": [],
   "source": []
  }
 ],
 "metadata": {
  "kernelspec": {
   "display_name": "Python [conda env:py3-TF2.0]",
   "language": "python",
   "name": "conda-env-py3-TF2.0-py"
  },
  "language_info": {
   "codemirror_mode": {
    "name": "ipython",
    "version": 3
   },
   "file_extension": ".py",
   "mimetype": "text/x-python",
   "name": "python",
   "nbconvert_exporter": "python",
   "pygments_lexer": "ipython3",
   "version": "3.8.11"
  }
 },
 "nbformat": 4,
 "nbformat_minor": 5
}
